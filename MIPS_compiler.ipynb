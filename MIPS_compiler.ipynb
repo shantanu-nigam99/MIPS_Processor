{
 "cells": [
  {
   "cell_type": "code",
   "execution_count": 1,
   "metadata": {},
   "outputs": [],
   "source": [
    "def int_to_bin(x,n):\n",
    "    arr=[]\n",
    "    for i in range(0,n):\n",
    "        arr.append(str(x%2))\n",
    "        x=int(x/2)\n",
    "    ret_str=\"\"\n",
    "    for i in range(0,n):\n",
    "        ret_str=ret_str+arr[n-i-1]\n",
    "    return ret_str"
   ]
  },
  {
   "cell_type": "code",
   "execution_count": 2,
   "metadata": {},
   "outputs": [
    {
     "data": {
      "text/plain": [
       "'11111'"
      ]
     },
     "execution_count": 2,
     "metadata": {},
     "output_type": "execute_result"
    }
   ],
   "source": [
    "#test case\n",
    "int_to_bin(31, 5)"
   ]
  },
  {
   "cell_type": "code",
   "execution_count": 3,
   "metadata": {},
   "outputs": [],
   "source": [
    "def dec_to_hex(x,n):\n",
    "    arr=[]\n",
    "    hex_values={0:\"0\", 1:\"1\", 2:\"2\", 3:\"3\", 4:\"4\", 5:\"5\", 6:\"6\", 7:\"7\", 8:\"8\", 9:\"9\" , 10:\"A\", 11:\"B\", 12:\"C\", 13:\"D\", 14:\"E\", 15:\"F\"}\n",
    "    for i in range(0,n):\n",
    "        arr.append(int(x%16))\n",
    "        x=int(x/16)\n",
    "    ret_str=\"\"\n",
    "    for i in range(0,n):\n",
    "        ret_str=ret_str+hex_values[arr[n-i-1]]\n",
    "    return ret_str"
   ]
  },
  {
   "cell_type": "code",
   "execution_count": 4,
   "metadata": {},
   "outputs": [
    {
     "data": {
      "text/plain": [
       "'0001E234'"
      ]
     },
     "execution_count": 4,
     "metadata": {},
     "output_type": "execute_result"
    }
   ],
   "source": [
    "#test case\n",
    "dec_to_hex(123444, 8)"
   ]
  },
  {
   "cell_type": "code",
   "execution_count": 5,
   "metadata": {},
   "outputs": [],
   "source": [
    "def compiler(instr):\n",
    "    R_type={\"sub\":\"100010\" , \"add\": '100000', \"or\": \"100101\", \"and\": '100100'}\n",
    "    I_type={\"lw\":\"100011\" , \"sw\":\"101011\", \"beq\":\"000100\"}\n",
    "    J_type={\"jmp\": \"000010\"}\n",
    "    instr=instr.replace(\",\", \"\")\n",
    "    instr=instr.replace(\"$\", \"\")\n",
    "    instr=instr.replace(\"(\", \" \")\n",
    "    instr=instr.replace(\")\", \"\")\n",
    "    a=instr.split()\n",
    "    if a[0] in R_type.keys():\n",
    "        opcode=\"000000\"\n",
    "        funct=R_type[a[0]]\n",
    "        Rs=int(a[2])\n",
    "        Rt=int(a[3])\n",
    "        Rd=int(a[1])\n",
    "        Rs= int_to_bin(Rs,5)\n",
    "        Rt= int_to_bin(Rt,5)\n",
    "        Rd= int_to_bin(Rd,5)\n",
    "        instr_code=\"0b\"+opcode+Rs+Rt+Rd+\"00000\"+funct\n",
    "        return dec_to_hex(int(instr_code,2), 8)              \n",
    "                          \n",
    "    if a[0] in I_type.keys():\n",
    "        print(a)\n",
    "        #a=a.split()\n",
    "        opcode=I_type[a[0]]\n",
    "        Rs=int(a[3])\n",
    "        Rt=int(a[1])\n",
    "        Rs= int_to_bin(Rs,5)\n",
    "        Rt= int_to_bin(Rt,5)\n",
    "        immediate_val=int(a[2])\n",
    "        immediate_val=int_to_bin(immediate_val,16)\n",
    "        instr_code=\"0b\"+opcode+Rs+Rt+immediate_val\n",
    "        return dec_to_hex(int(instr_code,2), 8)\n",
    "        \n",
    "        \n",
    "    if a[0] in J_type.keys():\n",
    "        return\n",
    "        #J_compile()"
   ]
  },
  {
   "cell_type": "code",
   "execution_count": 6,
   "metadata": {},
   "outputs": [],
   "source": [
    "f = open(\"instructions.txt\", \"r\")\n",
    "instr=f.readlines()\n",
    "f.close()"
   ]
  },
  {
   "cell_type": "code",
   "execution_count": 7,
   "metadata": {},
   "outputs": [
    {
     "name": "stdout",
     "output_type": "stream",
     "text": [
      "['sub $2, $1, $3\\n', 'and $8, $2, $5\\n', 'or $9, $6, $2\\n', 'add $5, $5, $6\\n', 'sub $4, $3, $6\\n', 'add $5, $5, $6\\n', 'add $8, $7, $3\\n', 'add $9, $10, $11\\n', 'lw $9, 16($11)\\n', 'sw $5, 3000($2)\\n', 'beq $5, $6']\n"
     ]
    }
   ],
   "source": [
    "print(instr)"
   ]
  },
  {
   "cell_type": "code",
   "execution_count": 8,
   "metadata": {},
   "outputs": [
    {
     "name": "stdout",
     "output_type": "stream",
     "text": [
      "00231022\n",
      "00454024\n",
      "00C24825\n",
      "00A62820\n",
      "00662022\n",
      "00A62820\n",
      "00E34020\n",
      "014B4820\n",
      "['lw', '9', '16', '11']\n",
      "8D690010\n",
      "['sw', '5', '3000', '2']\n",
      "AC450BB8\n"
     ]
    }
   ],
   "source": [
    "for i in range(0,10):\n",
    "    print(compiler(instr[i]))"
   ]
  }
 ],
 "metadata": {
  "kernelspec": {
   "display_name": "Python 3",
   "language": "python",
   "name": "python3"
  },
  "language_info": {
   "codemirror_mode": {
    "name": "ipython",
    "version": 3
   },
   "file_extension": ".py",
   "mimetype": "text/x-python",
   "name": "python",
   "nbconvert_exporter": "python",
   "pygments_lexer": "ipython3",
   "version": "3.7.4"
  }
 },
 "nbformat": 4,
 "nbformat_minor": 2
}
